{
  "nbformat": 4,
  "nbformat_minor": 0,
  "metadata": {
    "colab": {
      "provenance": []
    },
    "kernelspec": {
      "name": "python3",
      "display_name": "Python 3"
    },
    "language_info": {
      "name": "python"
    }
  },
  "cells": [
    {
      "cell_type": "markdown",
      "source": [
        "Q1"
      ],
      "metadata": {
        "id": "Jibzcrjb_TSj"
      }
    },
    {
      "cell_type": "code",
      "execution_count": null,
      "metadata": {
        "id": "w_ryBGjo_N-G"
      },
      "outputs": [],
      "source": [
        "\n",
        "def swap_case(s):\n",
        "    result = \"\"\n",
        "    for char in s:\n",
        "        if char.islower():\n",
        "            result += char.upper()\n",
        "        else:\n",
        "            result += char.lower()\n",
        "    \n",
        "    return result\n",
        "\n"
      ]
    },
    {
      "cell_type": "markdown",
      "source": [
        "Q2"
      ],
      "metadata": {
        "id": "ZK2fsgc6_Zrc"
      }
    },
    {
      "cell_type": "code",
      "source": [
        " import re\n",
        "def split_and_join(line):\n",
        "    # write your code here\n",
        "    \n",
        "        \n",
        "    line = re.sub(r\"[^\\w\\s]\", '', line)\n",
        "    line = re.sub(r\"\\s+\", '-', line)\n",
        "    return line\n",
        "\n",
        "\n"
      ],
      "metadata": {
        "id": "ba7y00Y7_bVJ"
      },
      "execution_count": null,
      "outputs": []
    },
    {
      "cell_type": "markdown",
      "source": [
        "Q3"
      ],
      "metadata": {
        "id": "W-aclDOT_so0"
      }
    },
    {
      "cell_type": "code",
      "source": [
        "def print_full_name(first_name,last_name) :\n",
        "    print(\"Hello\",first_name,last_name+\"! You just delved into python.\")\n",
        " \n",
        "\n",
        "\n",
        "\n"
      ],
      "metadata": {
        "id": "Bfjw7t2X_yKJ"
      },
      "execution_count": null,
      "outputs": []
    },
    {
      "cell_type": "markdown",
      "source": [
        "Q4"
      ],
      "metadata": {
        "id": "SiWJfqZj_1Od"
      }
    },
    {
      "cell_type": "code",
      "source": [
        "def mutate_string(string, position, character):\n",
        "    return string[:position]+character+string[position+1:]\n",
        "\n",
        "\n"
      ],
      "metadata": {
        "id": "TliSNmCA_2R0"
      },
      "execution_count": null,
      "outputs": []
    },
    {
      "cell_type": "markdown",
      "source": [
        "Q5"
      ],
      "metadata": {
        "id": "DTf9Xp47_52J"
      }
    },
    {
      "cell_type": "code",
      "source": [
        "def count_substring(string, sub_string):\n",
        "    n = 0\n",
        "    for i in range(len(string)):\n",
        "        if string[i: i+len(sub_string)] == sub_string:\n",
        "            n+= 1\n",
        "    return n\n"
      ],
      "metadata": {
        "id": "f-pBJcc5_6vc"
      },
      "execution_count": null,
      "outputs": []
    },
    {
      "cell_type": "markdown",
      "source": [
        "Q6"
      ],
      "metadata": {
        "id": "E5xbhST9_-6X"
      }
    },
    {
      "cell_type": "code",
      "source": [
        "s = input()\n",
        "print(any(i.isalnum() for i in s))\n",
        "print(any(i.isalpha() for i in s))\n",
        "print(any(i.isdigit() for i in s))\n",
        "print(any(i.islower() for i in s))\n",
        "print(any(i.isupper() for i in s))\n"
      ],
      "metadata": {
        "id": "OjGheEFx__ss"
      },
      "execution_count": null,
      "outputs": []
    },
    {
      "cell_type": "markdown",
      "source": [
        "Q7"
      ],
      "metadata": {
        "id": "FX4UT1L0ADsl"
      }
    },
    {
      "cell_type": "code",
      "source": [
        "#Replace all ______ with rjust, ljust or center. \n",
        "\n",
        "thickness = int(input()) #This must be an odd number\n",
        "c = 'H'\n",
        "\n",
        "for i in range(thickness):\n",
        "    print((c*i).rjust(thickness-1)+c+(c*i).ljust(thickness-1))\n",
        "\n",
        "#Top Pillars\n",
        "for i in range(thickness+1):\n",
        "    print((c*thickness).center(thickness*2)+(c*thickness).center(thickness*6))\n",
        "\n",
        "#Middle Belt\n",
        "for i in range((thickness+1)//2):\n",
        "    print((c*thickness*5).center(thickness*6))    \n",
        "\n",
        "#Bottom Pillars\n",
        "for i in range(thickness+1):\n",
        "    print((c*thickness).center(thickness*2)+(c*thickness).center(thickness*6))    \n",
        "\n",
        "#Bottom Cone\n",
        "for i in range(thickness):\n",
        "    print(((c*(thickness-i-1)).rjust(thickness)+c+(c*(thickness-i-1)).ljust(thickness)).rjust(thickness*6))\n"
      ],
      "metadata": {
        "id": "cjnJLce-AEkR"
      },
      "execution_count": null,
      "outputs": []
    },
    {
      "cell_type": "markdown",
      "source": [
        "Q8"
      ],
      "metadata": {
        "id": "jTYAD5pHAJkd"
      }
    },
    {
      "cell_type": "code",
      "source": [
        "def wrap(string, max_width):\n",
        "    return textwrap.fill(string,max_width)\n"
      ],
      "metadata": {
        "id": "VJKY2lYVAKy_"
      },
      "execution_count": null,
      "outputs": []
    },
    {
      "cell_type": "markdown",
      "source": [
        "Q9"
      ],
      "metadata": {
        "id": "jwO16KZHAP0j"
      }
    },
    {
      "cell_type": "code",
      "source": [
        "if __name__ == '__main__':\n",
        "    N, M = map(int, input().split())\n",
        "    \n",
        "    s = ''\n",
        "\n",
        "    for i in range(1, N, 2):\n",
        "\n",
        "        s = s + (i * '.|.').center(M, \"-\") + \"\\n\"\n",
        "\n",
        "    s = s + 'WELCOME'.center(M, \"-\") + \"\\n\"\n",
        "\n",
        "    for i in range(N - 2, 0, -2):\n",
        "        s = s + (i * '.|.').center(M, \"-\") + \"\\n\"\n",
        "        \n",
        "    print(s)\n"
      ],
      "metadata": {
        "id": "HaDF_S0XAQxf"
      },
      "execution_count": null,
      "outputs": []
    },
    {
      "cell_type": "markdown",
      "source": [
        "Q10"
      ],
      "metadata": {
        "id": "HZpAs2D6AU5f"
      }
    },
    {
      "cell_type": "code",
      "source": [
        "def print_formatted(number):\n",
        "    width = len(format(number, 'b'))\n",
        "    \n",
        "    for i in range(1, number + 1, 1):\n",
        "        dec = str(i).rjust(width,' ')\n",
        "        oct = format(i, \"o\").rjust(width, ' ')\n",
        "        hex = format(i, \"X\").rjust(width, ' ')\n",
        "        bin = format(i, 'b').rjust(width, ' ')\n",
        "        \n",
        "        print(f\"{dec} {oct} {hex} {bin}\")\n",
        "\n"
      ],
      "metadata": {
        "id": "bDhRftwwAV9b"
      },
      "execution_count": null,
      "outputs": []
    },
    {
      "cell_type": "markdown",
      "source": [
        "Q11"
      ],
      "metadata": {
        "id": "I7loWyEjAaMO"
      }
    },
    {
      "cell_type": "code",
      "source": [
        "def print_rangoli(size):\n",
        "    s_list = []\n",
        "    s_up, s_down = '', ''\n",
        "    for asc in range(96 + size, 96, -1):\n",
        "        s_list.append(chr(asc))\n",
        "        row = '-'.join(s_list + (sorted(s_list)[1:])).center(((size - 1) * 3) + size, '-') + '\\n'\n",
        "        s_up = s_up + row\n",
        "        s_down = row + s_down\n",
        "\n",
        "    s_up = ''.join(list(s_up)[:-1])\n",
        "    s_down = ''.join(list(s_down)[((size - 1) * 3) + size:])\n",
        "    print(s_up + s_down)\n",
        "\n",
        "\n"
      ],
      "metadata": {
        "id": "0DDqfcpQAdSC"
      },
      "execution_count": null,
      "outputs": []
    },
    {
      "cell_type": "markdown",
      "source": [
        "Q12"
      ],
      "metadata": {
        "id": "2z6lWB6qAiDO"
      }
    },
    {
      "cell_type": "code",
      "source": [
        "\n",
        "\n",
        "# Complete the solve function below.\n",
        "def solve(s):\n",
        "    \n",
        "    c= \"\"\n",
        "    for i in range(0,len(s)):\n",
        "        if i == 0:\n",
        "            c = c + (s[i].upper())\n",
        "        elif s[i-1] == \" \":\n",
        "            c = c + (s[i].upper())\n",
        "        else:\n",
        "            c = c + s[i]\n",
        "    return c\n",
        "\n"
      ],
      "metadata": {
        "id": "63UKpG1DAjAD"
      },
      "execution_count": null,
      "outputs": []
    },
    {
      "cell_type": "markdown",
      "source": [
        "Q13"
      ],
      "metadata": {
        "id": "yl55d-iSAnNy"
      }
    },
    {
      "cell_type": "code",
      "source": [
        "def minion_game(string):\n",
        "    vowel=\"AOEUI\"\n",
        "    vowCounter=0\n",
        "    conCounter=0\n",
        "    i=0\n",
        "    while i < len(string):\n",
        "        \n",
        "        if  string[i] in vowel :\n",
        "            vowCounter+=len(string)-i\n",
        "        else:\n",
        "            conCounter+=len(string)-i\n",
        "        i+=1\n",
        "    \n",
        "    if vowCounter>conCounter:\n",
        "        print (\"Kevin\",vowCounter)\n",
        "    elif vowCounter<conCounter :\n",
        "        print (\"Stuart\",conCounter)\n",
        "    else :\n",
        "         print(\"Draw\")\n",
        "\n"
      ],
      "metadata": {
        "id": "hsorSCkbAoUu"
      },
      "execution_count": null,
      "outputs": []
    },
    {
      "cell_type": "markdown",
      "source": [
        "Q14"
      ],
      "metadata": {
        "id": "SOIulCNwAs-E"
      }
    },
    {
      "cell_type": "code",
      "source": [
        "def merge_the_tools(string, k):\n",
        "    ns=''\n",
        "    for i,char in enumerate(string,1):\n",
        "        if char not in ns:\n",
        "            ns=''.join((ns,char))\n",
        "        if i%k==0:\n",
        "            print(ns)\n",
        "            ns=''\n",
        "\n",
        "\n"
      ],
      "metadata": {
        "id": "5AhqjH5HAuL0"
      },
      "execution_count": null,
      "outputs": []
    }
  ]
}